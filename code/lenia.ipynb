{
 "cells": [
  {
   "cell_type": "markdown",
   "id": "4b2e3fd7-f23b-47da-9c45-4518d5a3aa13",
   "metadata": {},
   "source": [
    "# Lenia\n",
    "\n",
    "## Setup system"
   ]
  },
  {
   "cell_type": "code",
   "execution_count": null,
   "id": "06d4a937-4755-430a-93f5-fd294fa4e80c",
   "metadata": {},
   "outputs": [],
   "source": [
    "from addict import Dict #easier way to deal with dict\n",
    "import torch\n",
    "from copy import deepcopy\n",
    "import numpy as np\n",
    "import matplotlib.pyplot as plt\n",
    "import numbers\n",
    "import time\n"
   ]
  }
 ],
 "metadata": {
  "kernelspec": {
   "display_name": "Python 3 (ipykernel)",
   "language": "python",
   "name": "python3"
  },
  "language_info": {
   "codemirror_mode": {
    "name": "ipython",
    "version": 3
   },
   "file_extension": ".py",
   "mimetype": "text/x-python",
   "name": "python",
   "nbconvert_exporter": "python",
   "pygments_lexer": "ipython3",
   "version": "3.11.7"
  }
 },
 "nbformat": 4,
 "nbformat_minor": 5
}
